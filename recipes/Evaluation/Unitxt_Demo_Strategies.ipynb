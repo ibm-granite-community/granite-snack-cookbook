{
 "cells": [
  {
   "cell_type": "markdown",
   "metadata": {},
   "source": [
    "# Model Evaluation: Different Demo Selections\n",
    "\n",
    "_Note_: for an introduction to model evaluation, see the [Quick Start](Unitxt_Quick_Start.ipynb) Cookbook.\n",
    "\n",
    "In this example, we experiment with different demo selection strategies in a classification task. "
   ]
  },
  {
   "cell_type": "markdown",
   "metadata": {},
   "source": [
    "## Load Dependencies"
   ]
  },
  {
   "cell_type": "code",
   "execution_count": null,
   "metadata": {},
   "outputs": [],
   "source": [
    "%pip install replicate\n",
    "%pip install git+https://github.com/ibm/unitxt\n",
    "%pip install unitxt\n",
    "%pip install openai\n",
    "%pip install litellm\n",
    "%pip install diskcache\n",
    "%pip install git+https://github.com/ibm-granite-community/utils\n",
    "\n",
    "from unitxt.api import evaluate, load_dataset\n",
    "from unitxt.inference import CrossProviderInferenceEngine\n",
    "\n",
    "from ibm_granite_community.notebook_utils import get_env_var\n",
    "\n",
    "import nest_asyncio\n",
    "nest_asyncio.apply()"
   ]
  },
  {
   "cell_type": "markdown",
   "metadata": {},
   "source": [
    "## Create dataset\n"
   ]
  },
  {
   "cell_type": "code",
   "execution_count": null,
   "metadata": {},
   "outputs": [],
   "source": [
    "classes = [\"positive\", \"negative\"]\n",
    "\n",
    "dataset = [\n",
    "    {\"text\": \"I am happy.\", \"label\": \"positive\", \"classes\": classes},\n",
    "    {\"text\": \"It was a great movie.\", \"label\": \"positive\", \"classes\": classes},\n",
    "    {\"text\": \"I never felt so bad\", \"label\": \"negative\", \"classes\": classes},\n",
    "]\n",
    "\n",
    "predictions = [\"Positive.\", \"negative.\", \"negative\"]"
   ]
  },
  {
   "cell_type": "markdown",
   "metadata": {},
   "source": [
    "## Instantiate the evaluation client\n",
    "\n",
    "Unitxt supports a wide range of inference engines for running models locally or remotely. For a complete list, see the [catalog](https://www.unitxt.ai/en/latest/catalog/catalog.engines.__dir__.html), or follow the [tutorial](https://www.unitxt.ai/en/latest/docs/inference.html).\n",
    "\n",
    "In this example, we are using a [CrossProviderInferenceEngine](https://www.unitxt.ai/en/latest/unitxt.inference.html#unitxt.inference.CrossProviderInferenceEngine) inference engine that wraps popular APIs for providers such as watsonx, openai, azure, aws, and many more."
   ]
  },
  {
   "cell_type": "code",
   "execution_count": null,
   "metadata": {},
   "outputs": [],
   "source": [
    "model = CrossProviderInferenceEngine(model=\"granite-3-8b-instruct\", provider=\"replicate\",credentials={'api_token': get_env_var('REPLICATE_API_TOKEN')})"
   ]
  },
  {
   "cell_type": "markdown",
   "metadata": {},
   "source": [
    "## Generate predictions"
   ]
  },
  {
   "cell_type": "code",
   "execution_count": null,
   "metadata": {},
   "outputs": [],
   "source": [
    "predictions = model(dataset)"
   ]
  },
  {
   "cell_type": "markdown",
   "metadata": {},
   "source": [
    "## Evaluate the predictions to determine results"
   ]
  },
  {
   "cell_type": "code",
   "execution_count": 5,
   "metadata": {},
   "outputs": [],
   "source": [
    "results = evaluate(predictions=predictions, data=dataset)"
   ]
  },
  {
   "cell_type": "markdown",
   "metadata": {},
   "source": [
    "## Print the scores"
   ]
  },
  {
   "cell_type": "code",
   "execution_count": null,
   "metadata": {},
   "outputs": [],
   "source": [
    "print(\"Global Results:\")\n",
    "print(results.global_scores.summary)\n",
    "\n",
    "print(\"Instance Results:\")\n",
    "print(results.instance_scores.summary)"
   ]
  }
 ],
 "metadata": {
  "kernelspec": {
   "display_name": ".venv",
   "language": "python",
   "name": "python3"
  },
  "language_info": {
   "codemirror_mode": {
    "name": "ipython",
    "version": 3
   },
   "file_extension": ".py",
   "mimetype": "text/x-python",
   "name": "python",
   "nbconvert_exporter": "python",
   "pygments_lexer": "ipython3",
   "version": "3.10.12"
  }
 },
 "nbformat": 4,
 "nbformat_minor": 2
}
