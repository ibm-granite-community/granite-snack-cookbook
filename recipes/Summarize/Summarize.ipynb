{
 "cells": [
  {
   "cell_type": "markdown",
   "metadata": {
    "id": "Q6rko_ANX0EC"
   },
   "source": [
    "# Document Summarization\n",
    "\n",
    "This notebook demonstrates an application of long document summarization techniques to a work of literature."
   ]
  },
  {
   "cell_type": "markdown",
   "metadata": {
    "id": "IwS1CzAbaFzq"
   },
   "source": [
    "## Install Dependencies\n",
    "\n",
    "Granite Kitchen comes with a bundle of dependencies that are required for notebooks. See the list of packages in its [`setup.py`](https://github.com/ibm-granite-community/granite-kitchen/blob/main/setup.py). "
   ]
  },
  {
   "cell_type": "code",
   "execution_count": 1,
   "metadata": {
    "id": "2zUHQD71qgqf"
   },
   "outputs": [
    {
     "name": "stdout",
     "output_type": "stream",
     "text": [
      "Collecting git+https://github.com/ibm-granite-community/utils\n",
      "  Cloning https://github.com/ibm-granite-community/utils to /private/var/folders/bb/yhn_xpt54b10d138nmjsk8x40000gn/T/pip-req-build-jc12wo32\n",
      "  Running command git clone --filter=blob:none --quiet https://github.com/ibm-granite-community/utils /private/var/folders/bb/yhn_xpt54b10d138nmjsk8x40000gn/T/pip-req-build-jc12wo32\n",
      "  Resolved https://github.com/ibm-granite-community/utils to commit a5965f40db3950dd2a41f3ca62a2c34adcdc20d7\n",
      "  Installing build dependencies ... \u001b[?25ldone\n",
      "\u001b[?25h  Getting requirements to build wheel ... \u001b[?25ldone\n",
      "\u001b[?25h  Preparing metadata (pyproject.toml) ... \u001b[?25ldone\n",
      "\u001b[?25hRequirement already satisfied: langchain_community<0.3.0 in /Users/madhukanukula/WORKSPACE/GRANITE-COOKBOOK/granite-snack-cookbook/.venv/lib/python3.12/site-packages (0.2.19)\n",
      "Requirement already satisfied: transformers>=4.45.2 in /Users/madhukanukula/WORKSPACE/GRANITE-COOKBOOK/granite-snack-cookbook/.venv/lib/python3.12/site-packages (4.46.3)\n",
      "Requirement already satisfied: langchain-huggingface in /Users/madhukanukula/WORKSPACE/GRANITE-COOKBOOK/granite-snack-cookbook/.venv/lib/python3.12/site-packages (0.0.3)\n",
      "Requirement already satisfied: replicate in /Users/madhukanukula/WORKSPACE/GRANITE-COOKBOOK/granite-snack-cookbook/.venv/lib/python3.12/site-packages (1.0.4)\n",
      "Requirement already satisfied: torch in /Users/madhukanukula/WORKSPACE/GRANITE-COOKBOOK/granite-snack-cookbook/.venv/lib/python3.12/site-packages (2.5.1)\n",
      "Requirement already satisfied: tiktoken in /Users/madhukanukula/WORKSPACE/GRANITE-COOKBOOK/granite-snack-cookbook/.venv/lib/python3.12/site-packages (0.8.0)\n",
      "Requirement already satisfied: python-dotenv in /Users/madhukanukula/WORKSPACE/GRANITE-COOKBOOK/granite-snack-cookbook/.venv/lib/python3.12/site-packages (from ibm-granite-community-utils==0.1.dev46) (1.0.1)\n",
      "Requirement already satisfied: PyYAML>=5.3 in /Users/madhukanukula/WORKSPACE/GRANITE-COOKBOOK/granite-snack-cookbook/.venv/lib/python3.12/site-packages (from langchain_community<0.3.0) (6.0.2)\n",
      "Requirement already satisfied: SQLAlchemy<3,>=1.4 in /Users/madhukanukula/WORKSPACE/GRANITE-COOKBOOK/granite-snack-cookbook/.venv/lib/python3.12/site-packages (from langchain_community<0.3.0) (2.0.36)\n",
      "Requirement already satisfied: aiohttp<4.0.0,>=3.8.3 in /Users/madhukanukula/WORKSPACE/GRANITE-COOKBOOK/granite-snack-cookbook/.venv/lib/python3.12/site-packages (from langchain_community<0.3.0) (3.11.8)\n",
      "Requirement already satisfied: dataclasses-json<0.7,>=0.5.7 in /Users/madhukanukula/WORKSPACE/GRANITE-COOKBOOK/granite-snack-cookbook/.venv/lib/python3.12/site-packages (from langchain_community<0.3.0) (0.6.7)\n",
      "Requirement already satisfied: langchain<0.3.0,>=0.2.17 in /Users/madhukanukula/WORKSPACE/GRANITE-COOKBOOK/granite-snack-cookbook/.venv/lib/python3.12/site-packages (from langchain_community<0.3.0) (0.2.17)\n",
      "Requirement already satisfied: langchain-core<0.3.0,>=0.2.43 in /Users/madhukanukula/WORKSPACE/GRANITE-COOKBOOK/granite-snack-cookbook/.venv/lib/python3.12/site-packages (from langchain_community<0.3.0) (0.2.43)\n",
      "Requirement already satisfied: langsmith<0.2.0,>=0.1.112 in /Users/madhukanukula/WORKSPACE/GRANITE-COOKBOOK/granite-snack-cookbook/.venv/lib/python3.12/site-packages (from langchain_community<0.3.0) (0.1.147)\n",
      "Requirement already satisfied: numpy<2.0.0,>=1.26.0 in /Users/madhukanukula/WORKSPACE/GRANITE-COOKBOOK/granite-snack-cookbook/.venv/lib/python3.12/site-packages (from langchain_community<0.3.0) (1.26.4)\n",
      "Requirement already satisfied: requests<3,>=2 in /Users/madhukanukula/WORKSPACE/GRANITE-COOKBOOK/granite-snack-cookbook/.venv/lib/python3.12/site-packages (from langchain_community<0.3.0) (2.32.3)\n",
      "Requirement already satisfied: tenacity!=8.4.0,<9.0.0,>=8.1.0 in /Users/madhukanukula/WORKSPACE/GRANITE-COOKBOOK/granite-snack-cookbook/.venv/lib/python3.12/site-packages (from langchain_community<0.3.0) (8.5.0)\n",
      "Requirement already satisfied: filelock in /Users/madhukanukula/WORKSPACE/GRANITE-COOKBOOK/granite-snack-cookbook/.venv/lib/python3.12/site-packages (from transformers>=4.45.2) (3.16.1)\n",
      "Requirement already satisfied: huggingface-hub<1.0,>=0.23.2 in /Users/madhukanukula/WORKSPACE/GRANITE-COOKBOOK/granite-snack-cookbook/.venv/lib/python3.12/site-packages (from transformers>=4.45.2) (0.26.3)\n",
      "Requirement already satisfied: packaging>=20.0 in /Users/madhukanukula/WORKSPACE/GRANITE-COOKBOOK/granite-snack-cookbook/.venv/lib/python3.12/site-packages (from transformers>=4.45.2) (24.2)\n",
      "Requirement already satisfied: regex!=2019.12.17 in /Users/madhukanukula/WORKSPACE/GRANITE-COOKBOOK/granite-snack-cookbook/.venv/lib/python3.12/site-packages (from transformers>=4.45.2) (2024.11.6)\n",
      "Requirement already satisfied: tokenizers<0.21,>=0.20 in /Users/madhukanukula/WORKSPACE/GRANITE-COOKBOOK/granite-snack-cookbook/.venv/lib/python3.12/site-packages (from transformers>=4.45.2) (0.20.3)\n",
      "Requirement already satisfied: safetensors>=0.4.1 in /Users/madhukanukula/WORKSPACE/GRANITE-COOKBOOK/granite-snack-cookbook/.venv/lib/python3.12/site-packages (from transformers>=4.45.2) (0.4.5)\n",
      "Requirement already satisfied: tqdm>=4.27 in /Users/madhukanukula/WORKSPACE/GRANITE-COOKBOOK/granite-snack-cookbook/.venv/lib/python3.12/site-packages (from transformers>=4.45.2) (4.67.1)\n",
      "Requirement already satisfied: sentence-transformers>=2.6.0 in /Users/madhukanukula/WORKSPACE/GRANITE-COOKBOOK/granite-snack-cookbook/.venv/lib/python3.12/site-packages (from langchain-huggingface) (3.3.1)\n",
      "Requirement already satisfied: httpx<1,>=0.21.0 in /Users/madhukanukula/WORKSPACE/GRANITE-COOKBOOK/granite-snack-cookbook/.venv/lib/python3.12/site-packages (from replicate) (0.28.0)\n",
      "Requirement already satisfied: pydantic>1.10.7 in /Users/madhukanukula/WORKSPACE/GRANITE-COOKBOOK/granite-snack-cookbook/.venv/lib/python3.12/site-packages (from replicate) (2.10.2)\n",
      "Requirement already satisfied: typing_extensions>=4.5.0 in /Users/madhukanukula/WORKSPACE/GRANITE-COOKBOOK/granite-snack-cookbook/.venv/lib/python3.12/site-packages (from replicate) (4.12.2)\n",
      "Requirement already satisfied: networkx in /Users/madhukanukula/WORKSPACE/GRANITE-COOKBOOK/granite-snack-cookbook/.venv/lib/python3.12/site-packages (from torch) (3.4.2)\n",
      "Requirement already satisfied: jinja2 in /Users/madhukanukula/WORKSPACE/GRANITE-COOKBOOK/granite-snack-cookbook/.venv/lib/python3.12/site-packages (from torch) (3.1.4)\n",
      "Requirement already satisfied: fsspec in /Users/madhukanukula/WORKSPACE/GRANITE-COOKBOOK/granite-snack-cookbook/.venv/lib/python3.12/site-packages (from torch) (2024.10.0)\n",
      "Requirement already satisfied: setuptools in /Users/madhukanukula/WORKSPACE/GRANITE-COOKBOOK/granite-snack-cookbook/.venv/lib/python3.12/site-packages (from torch) (75.6.0)\n",
      "Requirement already satisfied: sympy==1.13.1 in /Users/madhukanukula/WORKSPACE/GRANITE-COOKBOOK/granite-snack-cookbook/.venv/lib/python3.12/site-packages (from torch) (1.13.1)\n",
      "Requirement already satisfied: mpmath<1.4,>=1.1.0 in /Users/madhukanukula/WORKSPACE/GRANITE-COOKBOOK/granite-snack-cookbook/.venv/lib/python3.12/site-packages (from sympy==1.13.1->torch) (1.3.0)\n",
      "Requirement already satisfied: aiohappyeyeballs>=2.3.0 in /Users/madhukanukula/WORKSPACE/GRANITE-COOKBOOK/granite-snack-cookbook/.venv/lib/python3.12/site-packages (from aiohttp<4.0.0,>=3.8.3->langchain_community<0.3.0) (2.4.3)\n",
      "Requirement already satisfied: aiosignal>=1.1.2 in /Users/madhukanukula/WORKSPACE/GRANITE-COOKBOOK/granite-snack-cookbook/.venv/lib/python3.12/site-packages (from aiohttp<4.0.0,>=3.8.3->langchain_community<0.3.0) (1.3.1)\n",
      "Requirement already satisfied: attrs>=17.3.0 in /Users/madhukanukula/WORKSPACE/GRANITE-COOKBOOK/granite-snack-cookbook/.venv/lib/python3.12/site-packages (from aiohttp<4.0.0,>=3.8.3->langchain_community<0.3.0) (24.2.0)\n",
      "Requirement already satisfied: frozenlist>=1.1.1 in /Users/madhukanukula/WORKSPACE/GRANITE-COOKBOOK/granite-snack-cookbook/.venv/lib/python3.12/site-packages (from aiohttp<4.0.0,>=3.8.3->langchain_community<0.3.0) (1.5.0)\n",
      "Requirement already satisfied: multidict<7.0,>=4.5 in /Users/madhukanukula/WORKSPACE/GRANITE-COOKBOOK/granite-snack-cookbook/.venv/lib/python3.12/site-packages (from aiohttp<4.0.0,>=3.8.3->langchain_community<0.3.0) (6.1.0)\n",
      "Requirement already satisfied: propcache>=0.2.0 in /Users/madhukanukula/WORKSPACE/GRANITE-COOKBOOK/granite-snack-cookbook/.venv/lib/python3.12/site-packages (from aiohttp<4.0.0,>=3.8.3->langchain_community<0.3.0) (0.2.0)\n",
      "Requirement already satisfied: yarl<2.0,>=1.17.0 in /Users/madhukanukula/WORKSPACE/GRANITE-COOKBOOK/granite-snack-cookbook/.venv/lib/python3.12/site-packages (from aiohttp<4.0.0,>=3.8.3->langchain_community<0.3.0) (1.18.0)\n",
      "Requirement already satisfied: marshmallow<4.0.0,>=3.18.0 in /Users/madhukanukula/WORKSPACE/GRANITE-COOKBOOK/granite-snack-cookbook/.venv/lib/python3.12/site-packages (from dataclasses-json<0.7,>=0.5.7->langchain_community<0.3.0) (3.23.1)\n",
      "Requirement already satisfied: typing-inspect<1,>=0.4.0 in /Users/madhukanukula/WORKSPACE/GRANITE-COOKBOOK/granite-snack-cookbook/.venv/lib/python3.12/site-packages (from dataclasses-json<0.7,>=0.5.7->langchain_community<0.3.0) (0.9.0)\n",
      "Requirement already satisfied: anyio in /Users/madhukanukula/WORKSPACE/GRANITE-COOKBOOK/granite-snack-cookbook/.venv/lib/python3.12/site-packages (from httpx<1,>=0.21.0->replicate) (4.6.2.post1)\n",
      "Requirement already satisfied: certifi in /Users/madhukanukula/WORKSPACE/GRANITE-COOKBOOK/granite-snack-cookbook/.venv/lib/python3.12/site-packages (from httpx<1,>=0.21.0->replicate) (2024.8.30)\n",
      "Requirement already satisfied: httpcore==1.* in /Users/madhukanukula/WORKSPACE/GRANITE-COOKBOOK/granite-snack-cookbook/.venv/lib/python3.12/site-packages (from httpx<1,>=0.21.0->replicate) (1.0.7)\n",
      "Requirement already satisfied: idna in /Users/madhukanukula/WORKSPACE/GRANITE-COOKBOOK/granite-snack-cookbook/.venv/lib/python3.12/site-packages (from httpx<1,>=0.21.0->replicate) (3.10)\n",
      "Requirement already satisfied: h11<0.15,>=0.13 in /Users/madhukanukula/WORKSPACE/GRANITE-COOKBOOK/granite-snack-cookbook/.venv/lib/python3.12/site-packages (from httpcore==1.*->httpx<1,>=0.21.0->replicate) (0.14.0)\n",
      "Requirement already satisfied: langchain-text-splitters<0.3.0,>=0.2.0 in /Users/madhukanukula/WORKSPACE/GRANITE-COOKBOOK/granite-snack-cookbook/.venv/lib/python3.12/site-packages (from langchain<0.3.0,>=0.2.17->langchain_community<0.3.0) (0.2.4)\n",
      "Requirement already satisfied: jsonpatch<2.0,>=1.33 in /Users/madhukanukula/WORKSPACE/GRANITE-COOKBOOK/granite-snack-cookbook/.venv/lib/python3.12/site-packages (from langchain-core<0.3.0,>=0.2.43->langchain_community<0.3.0) (1.33)\n",
      "Requirement already satisfied: orjson<4.0.0,>=3.9.14 in /Users/madhukanukula/WORKSPACE/GRANITE-COOKBOOK/granite-snack-cookbook/.venv/lib/python3.12/site-packages (from langsmith<0.2.0,>=0.1.112->langchain_community<0.3.0) (3.10.12)\n",
      "Requirement already satisfied: requests-toolbelt<2.0.0,>=1.0.0 in /Users/madhukanukula/WORKSPACE/GRANITE-COOKBOOK/granite-snack-cookbook/.venv/lib/python3.12/site-packages (from langsmith<0.2.0,>=0.1.112->langchain_community<0.3.0) (1.0.0)\n",
      "Requirement already satisfied: annotated-types>=0.6.0 in /Users/madhukanukula/WORKSPACE/GRANITE-COOKBOOK/granite-snack-cookbook/.venv/lib/python3.12/site-packages (from pydantic>1.10.7->replicate) (0.7.0)\n",
      "Requirement already satisfied: pydantic-core==2.27.1 in /Users/madhukanukula/WORKSPACE/GRANITE-COOKBOOK/granite-snack-cookbook/.venv/lib/python3.12/site-packages (from pydantic>1.10.7->replicate) (2.27.1)\n",
      "Requirement already satisfied: charset-normalizer<4,>=2 in /Users/madhukanukula/WORKSPACE/GRANITE-COOKBOOK/granite-snack-cookbook/.venv/lib/python3.12/site-packages (from requests<3,>=2->langchain_community<0.3.0) (3.4.0)\n",
      "Requirement already satisfied: urllib3<3,>=1.21.1 in /Users/madhukanukula/WORKSPACE/GRANITE-COOKBOOK/granite-snack-cookbook/.venv/lib/python3.12/site-packages (from requests<3,>=2->langchain_community<0.3.0) (2.2.3)\n",
      "Requirement already satisfied: scikit-learn in /Users/madhukanukula/WORKSPACE/GRANITE-COOKBOOK/granite-snack-cookbook/.venv/lib/python3.12/site-packages (from sentence-transformers>=2.6.0->langchain-huggingface) (1.5.2)\n",
      "Requirement already satisfied: scipy in /Users/madhukanukula/WORKSPACE/GRANITE-COOKBOOK/granite-snack-cookbook/.venv/lib/python3.12/site-packages (from sentence-transformers>=2.6.0->langchain-huggingface) (1.14.1)\n",
      "Requirement already satisfied: Pillow in /Users/madhukanukula/WORKSPACE/GRANITE-COOKBOOK/granite-snack-cookbook/.venv/lib/python3.12/site-packages (from sentence-transformers>=2.6.0->langchain-huggingface) (11.0.0)\n",
      "Requirement already satisfied: MarkupSafe>=2.0 in /Users/madhukanukula/WORKSPACE/GRANITE-COOKBOOK/granite-snack-cookbook/.venv/lib/python3.12/site-packages (from jinja2->torch) (3.0.2)\n",
      "Requirement already satisfied: jsonpointer>=1.9 in /Users/madhukanukula/WORKSPACE/GRANITE-COOKBOOK/granite-snack-cookbook/.venv/lib/python3.12/site-packages (from jsonpatch<2.0,>=1.33->langchain-core<0.3.0,>=0.2.43->langchain_community<0.3.0) (3.0.0)\n",
      "Requirement already satisfied: mypy-extensions>=0.3.0 in /Users/madhukanukula/WORKSPACE/GRANITE-COOKBOOK/granite-snack-cookbook/.venv/lib/python3.12/site-packages (from typing-inspect<1,>=0.4.0->dataclasses-json<0.7,>=0.5.7->langchain_community<0.3.0) (1.0.0)\n",
      "Requirement already satisfied: sniffio>=1.1 in /Users/madhukanukula/WORKSPACE/GRANITE-COOKBOOK/granite-snack-cookbook/.venv/lib/python3.12/site-packages (from anyio->httpx<1,>=0.21.0->replicate) (1.3.1)\n",
      "Requirement already satisfied: joblib>=1.2.0 in /Users/madhukanukula/WORKSPACE/GRANITE-COOKBOOK/granite-snack-cookbook/.venv/lib/python3.12/site-packages (from scikit-learn->sentence-transformers>=2.6.0->langchain-huggingface) (1.4.2)\n",
      "Requirement already satisfied: threadpoolctl>=3.1.0 in /Users/madhukanukula/WORKSPACE/GRANITE-COOKBOOK/granite-snack-cookbook/.venv/lib/python3.12/site-packages (from scikit-learn->sentence-transformers>=2.6.0->langchain-huggingface) (3.5.0)\n"
     ]
    }
   ],
   "source": [
    "# ! pip install git+https://github.com/ibm-granite-community/utils \\\n",
    "#     langchain \\\n",
    "#     langchain-community \\\n",
    "#     transformers \\\n",
    "#     langchain-huggingface \\\n",
    "#     replicate torch \\\n",
    "#     tiktoken \\\n",
    "#     langchain-experimental\n"
   ]
  },
  {
   "cell_type": "markdown",
   "metadata": {
    "id": "ydrVWz7EYHh9"
   },
   "source": [
    "## Select your model\n",
    "\n",
    "Select a Granite model from the [`ibm-granite`](https://replicate.com/ibm-granite) org on Replicate. Here we use the Replicate Langchain client to connect to the model.\n",
    "\n",
    "To get set up with Replicate, see [Getting Started with Replicate](https://github.com/ibm-granite-community/granite-kitchen/blob/main/recipes/Getting_Started/Getting_Started_with_Replicate.ipynb).\n",
    "\n",
    "To connect to a model on a provider other than Replicate, substitute this code cell with one from the [LLM component recipe](https://github.com/ibm-granite-community/granite-kitchen/blob/main/recipes/Components/Langchain_LLMs.ipynb)."
   ]
  },
  {
   "cell_type": "code",
   "execution_count": 2,
   "metadata": {
    "id": "TSkiGBY4qo32"
   },
   "outputs": [],
   "source": [
    "from langchain_community.llms import Replicate\n",
    "from ibm_granite_community.notebook_utils import get_env_var\n",
    "\n",
    "\n",
    "model_path = \"ibm-granite/granite-3.1-8b-instruct\"\n",
    "model = Replicate(\n",
    "    model=model_path,\n",
    "    replicate_api_token=get_env_var('REPLICATE_API_TOKEN'),\n",
    ")"
   ]
  },
  {
   "cell_type": "markdown",
   "metadata": {
    "id": "5d0sWaZ7YLHN"
   },
   "source": [
    "## Download a book\n",
    "\n",
    "Here we fetch H.D. Thoreau's \"Walden\" from [Project Gutenberg](https://www.gutenberg.org/) for summarization.\n",
    "\n",
    "We have to trim it down so that it will fit in the 128k-token context window of the model."
   ]
  },
  {
   "cell_type": "code",
   "execution_count": 3,
   "metadata": {
    "id": "3JFi40LArpIa"
   },
   "outputs": [
    {
     "name": "stdout",
     "output_type": "stream",
     "text": [
      "Length of book text: 644843 chars\n"
     ]
    }
   ],
   "source": [
    "import requests\n",
    "from time import sleep\n",
    "\n",
    "# The following URL contains a text version of H.D. Thoreau's \"Walden\"\n",
    "url = \"https://www.gutenberg.org/cache/epub/205/pg205.txt\"\n",
    "\n",
    "# Get the contents\n",
    "response = requests.get(url)\n",
    "response.raise_for_status()\n",
    "full_contents = response.text\n",
    "\n",
    "# Extract the text of the book, leaving out the gutenberg boilerplate.\n",
    "start_str = \"*** START OF THE PROJECT GUTENBERG EBOOK WALDEN, AND ON THE DUTY OF CIVIL DISOBEDIENCE ***\"\n",
    "start_index = full_contents.index(start_str) + len(start_str)\n",
    "end_str = \"*** END OF THE PROJECT GUTENBERG EBOOK WALDEN, AND ON THE DUTY OF CIVIL DISOBEDIENCE ***\"\n",
    "end_index = full_contents.index(end_str)\n",
    "book_contents = full_contents[start_index:end_index]\n",
    "print(\"Length of book text: {} chars\".format(len(book_contents)))"
   ]
  },
  {
   "cell_type": "markdown",
   "metadata": {
    "id": "HYuQmgRJY0n5"
   },
   "source": [
    "## Count the tokens\n",
    "\n",
    "Before sending our code to the AI model, it's crucial to understand how much of the model's capacity we're using. Language models typically have a limit on the number of tokens they can process in a single request.\n",
    "\n",
    "Key points:\n",
    "- We're using the [`granite-3.1-8b-instruct`](https://huggingface.co/ibm-granite/granite-3.1-8b-instruct) model, which has a context window of 128K tokens.\n",
    "- Tokenization can vary between models, so we use the specific tokenizer for our chosen model.\n",
    "\n",
    "Understanding token count helps us optimize our prompts and ensure we're using the model efficiently."
   ]
  },
  {
   "cell_type": "code",
   "execution_count": 4,
   "metadata": {
    "id": "7JqmvTqbWPgl"
   },
   "outputs": [
    {
     "name": "stdout",
     "output_type": "stream",
     "text": [
      "Your model uses the tokenizer GPT2TokenizerFast\n",
      "Your document has 184361 tokens. \n"
     ]
    }
   ],
   "source": [
    "from transformers import AutoTokenizer\n",
    "\n",
    "tokenizer = AutoTokenizer.from_pretrained(model_path)\n",
    "print(\"Your model uses the tokenizer \" + type(tokenizer).__name__)\n",
    "\n",
    "print(f\"Your document has {len(tokenizer.tokenize(book_contents))} tokens. \")"
   ]
  },
  {
   "cell_type": "markdown",
   "metadata": {},
   "source": [
    "### Pick Embedding model "
   ]
  },
  {
   "cell_type": "code",
   "execution_count": 5,
   "metadata": {},
   "outputs": [
    {
     "name": "stderr",
     "output_type": "stream",
     "text": [
      "huggingface/tokenizers: The current process just got forked, after parallelism has already been used. Disabling parallelism to avoid deadlocks...\n",
      "To disable this warning, you can either:\n",
      "\t- Avoid using `tokenizers` before the fork if possible\n",
      "\t- Explicitly set the environment variable TOKENIZERS_PARALLELISM=(true | false)\n"
     ]
    }
   ],
   "source": [
    "from langchain_huggingface import HuggingFaceEmbeddings\n",
    "\n",
    "embeddings_model = HuggingFaceEmbeddings(model_name=\"ibm-granite/granite-embedding-125m-english\")"
   ]
  },
  {
   "cell_type": "markdown",
   "metadata": {},
   "source": [
    "### Chunk the text meaningfully using SemanticChunker"
   ]
  },
  {
   "cell_type": "code",
   "execution_count": 6,
   "metadata": {},
   "outputs": [],
   "source": [
    "from langchain_experimental.text_splitter import SemanticChunker\n",
    "\n",
    "text_splitter = SemanticChunker(embeddings=embeddings_model)\n",
    "docs = text_splitter.create_documents(texts=[book_contents])"
   ]
  },
  {
   "cell_type": "markdown",
   "metadata": {
    "id": "ygNmITWQZAZ8"
   },
   "source": [
    "## Summarize the text"
   ]
  },
  {
   "cell_type": "markdown",
   "metadata": {},
   "source": [
    "### Create the Final Summary\n",
    "\n",
    "Generate a single summary from the chunked documents using langchain mapreduce summarization chain."
   ]
  },
  {
   "cell_type": "code",
   "execution_count": 7,
   "metadata": {},
   "outputs": [
    {
     "name": "stderr",
     "output_type": "stream",
     "text": [
      "Token indices sequence length is longer than the specified maximum sequence length for this model (25263 > 1024). Running this sequence through the model will result in indexing errors\n"
     ]
    },
    {
     "data": {
      "text/plain": [
       "'Henry David Thoreau\\'s \"Walden\" is a philosophical exploration of simple living and self-reliance, chronicling his two-year stay in a cabin near Walden Pond. Thoreau advocates for a life less burdened by material possessions and more attuned to one\\'s purpose, critiquing societal norms, materialism, and the dehumanizing effects of economic striving. He emphasizes the value of individualism, nature, and firsthand experience, and critiques traditional college education for prioritizing convenience over practical skills. Thoreau reflects on the futility of rapid technological advancements, valuing slower, more meaningful pursuits. He discusses his frugal lifestyle, advocating for minimal possessions and self-sufficiency in food production. The text also explores themes of simplicity, natural living, and self-improvement, criticizing corrupted religious manners and advocating for a more positive perspective on God. Thoreau\\'s \"Civil Disobedience\" critiques passive citizens who oppose injustices but fail to take concrete actions, arguing for individual resistance to unjust laws and the importance of personal integrity and critical thinking. Both works emphasize the value of authenticity, integrity, and personal discovery over superficial displays of wealth or status.'"
      ]
     },
     "execution_count": 7,
     "metadata": {},
     "output_type": "execute_result"
    }
   ],
   "source": [
    "from langchain.chains.summarize import load_summarize_chain\n",
    "from langchain_core.runnables.config import RunnableConfig\n",
    "\n",
    "chain = load_summarize_chain(llm=model, chain_type=\"map_reduce\")\n",
    "summmary = chain.invoke(input={\"input_documents\": docs}, config=RunnableConfig(max_concurrency=5))['output_text']\n",
    "summmary"
   ]
  }
 ],
 "metadata": {
  "colab": {
   "provenance": [],
   "toc_visible": true
  },
  "kernelspec": {
   "display_name": ".venv",
   "language": "python",
   "name": "python3"
  },
  "language_info": {
   "codemirror_mode": {
    "name": "ipython",
    "version": 3
   },
   "file_extension": ".py",
   "mimetype": "text/x-python",
   "name": "python",
   "nbconvert_exporter": "python",
   "pygments_lexer": "ipython3",
   "version": "3.12.7"
  }
 },
 "nbformat": 4,
 "nbformat_minor": 4
}
