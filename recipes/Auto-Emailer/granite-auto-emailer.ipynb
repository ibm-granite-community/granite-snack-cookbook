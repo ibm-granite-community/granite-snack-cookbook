{
 "cells": [
  {
   "cell_type": "markdown",
   "id": "d8e15bf6-e7f9-46b6-b9cf-397bd3ca6e98",
   "metadata": {},
   "source": [
    "# Auto-Emailer"
   ]
  },
  {
   "cell_type": "markdown",
   "id": "489ead39-0a6f-4bed-8a53-cea7e07a85f9",
   "metadata": {},
   "source": [
    "This is an automatic emailer for unique requests based off of the `template_email` you declare below. The example is from a sponsorship email for an event called [DevOpsDays Austin](http://devopsdays.org/austin), the core idea is to send out a bunch of relitievly unique emails asking for sponsorships. This recipe is the way to get the `granite` model to do this for you."
   ]
  },
  {
   "cell_type": "markdown",
   "id": "98bbacb4-339e-41c9-8c32-29765c70ba20",
   "metadata": {},
   "source": [
    "## `imports`\n",
    "This is the imports and core setup of the this recipe."
   ]
  },
  {
   "cell_type": "code",
   "execution_count": null,
   "id": "fb0cce51-8585-42be-b946-2f4c82b0873f",
   "metadata": {},
   "outputs": [],
   "source": [
    "!pip install --upgrade pip\n",
    "!pip install ollama markdown\n",
    "import csv\n",
    "from ollama import chat\n",
    "import smtplib, ssl\n",
    "from email.mime.text import MIMEText\n",
    "from email.mime.multipart import MIMEMultipart\n",
    "import markdown"
   ]
  },
  {
   "cell_type": "markdown",
   "id": "1cd5287a-c286-4601-adc1-f6160aa7425e",
   "metadata": {},
   "source": [
    "## `variables`\n",
    "Some global variables to help you set things up. \n",
    "- The `sender_email` is the email you would like to send from.\n",
    "- `mail_server` is the email server you need to connect to.\n",
    "- `user` is the user if it needs to differ from the sender's email.\n",
    "- `template_email` is the email or core story you want to tell; it's the overview or generic email you want to use.\n",
    "- `prospectus` is the prospectus for the event, if you need one\n",
    "- `date_of_event` is the date of the event so that the model can know\n",
    "- `my_name` is your name\n",
    "- `my_email` is your email\n",
    "- `my_phone` is your phone number"
   ]
  },
  {
   "cell_type": "code",
   "execution_count": null,
   "id": "144c90cf-121d-4904-9685-6be4634402c6",
   "metadata": {},
   "outputs": [],
   "source": [
    "port = 465\n",
    "password = input(\"SMTP password: \")\n",
    "sender_email = \"postmaster@asgharlabs.io\"\n",
    "mail_server = \"smtp.mailgun.org\"\n",
    "user = sender_email\n",
    "\n",
    "template_email = \"\"\"\n",
    "DevOpsDays Austin is in its thirteenth year, and we are one of the oldest DevOpsDays in the United States and the world. We consistently are near or at capacity on tickets sold (~320-400, depending on our venue) and have 90% or greater of attendees check in. Attendees skew toward more experienced and range from senior engineer to director to CEO, and they represent companies from stealth startups to large enterprises with sectors like finance, healthcare, and as-a-service platforms.\n",
    "\n",
    "In our survey of attendees last year, one piece of feedback we received was literally \"Would have liked more vendors to interact with,\" and that was for a sold-out sponsorship area. Our community appreciates our sponsors and wants to interact with you. We would love to have you.\n",
    "\"\"\"\n",
    "\n",
    "prospectus = \"https://assets.devopsdays.org/events/2025/austin/devopsdays-austin-2025-sponsor-prospectus.pdf\"\n",
    "\n",
    "date_of_event = \"May 1st, and 2nd, 2025\"\n",
    "\n",
    "my_name = \"Jenny DevOper\"\n",
    "my_email = \"jenny@example.com\"\n",
    "my_phone = \"123-867-5309\""
   ]
  },
  {
   "cell_type": "markdown",
   "id": "42224a41-b2df-4267-8ad3-41f99f784203",
   "metadata": {},
   "source": [
    "## Load the `CSV`\n",
    "Load the `csv` from `names.csv`. If you want add more you can!"
   ]
  },
  {
   "cell_type": "code",
   "execution_count": null,
   "id": "e26fe923-2d6c-4ec9-a101-13caf3153d08",
   "metadata": {},
   "outputs": [],
   "source": [
    "with open(\"names.csv\") as data_file:\n",
    "    data = csv.DictReader(data_file)\n",
    "    data_list = []\n",
    "    for row in data:\n",
    "        data_list.append(row)"
   ]
  },
  {
   "cell_type": "markdown",
   "id": "2364459d-a2df-4585-a0cd-019d6f4b1690",
   "metadata": {},
   "source": [
    "# Run the script to send the emails!"
   ]
  },
  {
   "cell_type": "code",
   "execution_count": null,
   "id": "721e265b-a8af-4afa-9d0a-62938d400afe",
   "metadata": {},
   "outputs": [],
   "source": [
    "context = ssl.create_default_context()\n",
    "with smtplib.SMTP_SSL(mail_server, port, context=context) as server:\n",
    "\tserver.login(user, password)\n",
    "\n",
    "\tfor i in data_list:\n",
    "\n",
    "\t\treceiver_email = i['email']\n",
    "\n",
    "\t\tresponse = chat(model='granite3.2', messages= [\n",
    "\t\t{\n",
    "\t\t\t'role': 'user',\n",
    "\t\t\t'content': f\"You are a professional cold caller for events. You write friendly, engaging emails to help drive people to want to sponsor your events. You use the following information and template email to help write out unique and engaging conversational emails: {template_email}. The date for the event is: {date_of_event}, and if you want to link to the prospectus, it is located here: {prospectus}. Please write an email that convinces me to want to sponsor this event. The recipient's name is {i['name']}. The from is my name as {my_name}, and my email address is {my_email}, my phone number is {my_phone}.\",\n",
    "\t\t},]\n",
    "\t)\n",
    "\n",
    "\t\tmessage = MIMEMultipart(\"alternative\")\n",
    "\t\tmessage[\"Subject\"] = \"Exclusive Sponsorship Opportunity at DevOpsDays Austin 2025\"\n",
    "\t\tmessage[\"From\"] = sender_email\n",
    "\t\tmessage[\"To\"] = receiver_email\n",
    "\n",
    "\t\traw_response =  response['message']['content']\n",
    "\t\ttext_email = raw_response\n",
    "\n",
    "\t\thtml_email = markdown.markdown(raw_response)\n",
    "\n",
    "\t\tpart1 = MIMEText(text_email, \"plain\")\n",
    "\t\tpart2 = MIMEText(html_email, \"html\")\n",
    "\n",
    "\t\tmessage.attach(part1)\n",
    "\t\tmessage.attach(part2)\n",
    "\n",
    "\t\t#print(response['message']['content'])\n",
    "\t\tserver.sendmail(sender_email, receiver_email, message.as_string())\n",
    "\t\tprint(f\">>>> email sent to {i['email']} <<<<<\")\n"
   ]
  }
 ],
 "metadata": {
  "kernelspec": {
   "display_name": "Python 3 (ipykernel)",
   "language": "python",
   "name": "python3"
  },
  "language_info": {
   "codemirror_mode": {
    "name": "ipython",
    "version": 3
   },
   "file_extension": ".py",
   "mimetype": "text/x-python",
   "name": "python",
   "nbconvert_exporter": "python",
   "pygments_lexer": "ipython3",
   "version": "3.11.10"
  }
 },
 "nbformat": 4,
 "nbformat_minor": 5
}
