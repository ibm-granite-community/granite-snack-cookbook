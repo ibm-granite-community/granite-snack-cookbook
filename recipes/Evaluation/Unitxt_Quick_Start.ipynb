{
 "cells": [
  {
   "cell_type": "markdown",
   "metadata": {},
   "source": [
    "# Model Evaluation: Quick Start Guide\n",
    "\n",
    "Unlike traditional software systems that rely on prescribed specifications and application code, AI systems based on machine learning models depend on training data to map inputs to outputs. Consequently, these systems are inherently non-deterministic and may produce errors due to variability in the training data or the probabilistic nature of the underlying algorithms. To evaluate such systems, benchmarks are commonly used to address user concerns, such as accuracy and bias. However, since benchmarks can be manipulated over time to achieve favorable results, it is essential to establish a flexible evaluation framework that supports rapid updates to evaluation criteria and benchmark selection. Given the critical role of testing and evaluation in deploying AI systems, there is a pressing need for a consistent methodology and robust tool support for these activities. \n",
    "\n",
    "In the context of generative AI, evaluation serves to provide evidence that fosters user trust in models and systems. Specifically, it involves measuring and quantifying how a model or system responds to inputs. Are the responses within acceptable bounds—free from hate speech, hallucinations, or other harmful outputs? Are they useful, cost-effective, and reliable?\n",
    "\n",
    "[Unitxt](https://www.unitxt.ai) is an innovative library for textual data preparation and evaluation of generative language models. It deconstructs the data preparation and evaluation flows into modular components, enabling easy customization and sharing between practitioners. Unitxt as an extensive [catalog](https://www.unitxt.ai/en/latest/catalog/catalog.__dir__.html) of datasets, tasks, templates, metrics and textual operators, that can be used as-is, or be combined in innovative ways to create new evaluations.\n",
    "\n",
    "In this example, lets evaluate Granite's performance on the [OpenbookQA](https://huggingface.co/datasets/allenai/openbookqa) dataset from HuggingFace. We load the dataset using its card, generate the model client, run inference, and evaluate the results.\n",
    "\n",
    "_Note_: To get set up with Replicate, see [Getting Started with Replicate](https://github.com/ibm-granite-community/granite-kitchen/blob/main/recipes/Getting_Started/Getting_Started_with_Replicate.ipynb), then get an API token [here](https://replicate.com/account/api-tokens). "
   ]
  },
  {
   "cell_type": "markdown",
   "metadata": {},
   "source": [
    "## Load Dependencies"
   ]
  },
  {
   "cell_type": "code",
   "execution_count": 1,
   "metadata": {},
   "outputs": [
    {
     "name": "stdout",
     "output_type": "stream",
     "text": [
      "Requirement already satisfied: replicate in ./user-groups/python-310/workspace/conda/envs/python_310-1.0.0/lib/python3.10/site-packages (1.0.4)\n",
      "Requirement already satisfied: httpx<1,>=0.21.0 in ./user-groups/python-310/workspace/conda/envs/python_310-1.0.0/lib/python3.10/site-packages (from replicate) (0.27.0)\n",
      "Requirement already satisfied: packaging in ./user-groups/python-310/workspace/conda/envs/python_310-1.0.0/lib/python3.10/site-packages (from replicate) (24.2)\n",
      "Requirement already satisfied: pydantic>1.10.7 in ./user-groups/python-310/workspace/conda/envs/python_310-1.0.0/lib/python3.10/site-packages (from replicate) (2.10.6)\n",
      "Requirement already satisfied: typing_extensions>=4.5.0 in ./user-groups/python-310/workspace/conda/envs/python_310-1.0.0/lib/python3.10/site-packages (from replicate) (4.12.2)\n",
      "Requirement already satisfied: anyio in ./user-groups/python-310/workspace/conda/envs/python_310-1.0.0/lib/python3.10/site-packages (from httpx<1,>=0.21.0->replicate) (4.6.2)\n",
      "Requirement already satisfied: certifi in ./user-groups/python-310/workspace/conda/envs/python_310-1.0.0/lib/python3.10/site-packages (from httpx<1,>=0.21.0->replicate) (2024.12.14)\n",
      "Requirement already satisfied: httpcore==1.* in ./user-groups/python-310/workspace/conda/envs/python_310-1.0.0/lib/python3.10/site-packages (from httpx<1,>=0.21.0->replicate) (1.0.2)\n",
      "Requirement already satisfied: idna in ./user-groups/python-310/workspace/conda/envs/python_310-1.0.0/lib/python3.10/site-packages (from httpx<1,>=0.21.0->replicate) (3.7)\n",
      "Requirement already satisfied: sniffio in ./user-groups/python-310/workspace/conda/envs/python_310-1.0.0/lib/python3.10/site-packages (from httpx<1,>=0.21.0->replicate) (1.3.0)\n",
      "Requirement already satisfied: h11<0.15,>=0.13 in ./user-groups/python-310/workspace/conda/envs/python_310-1.0.0/lib/python3.10/site-packages (from httpcore==1.*->httpx<1,>=0.21.0->replicate) (0.14.0)\n",
      "Requirement already satisfied: annotated-types>=0.6.0 in ./user-groups/python-310/workspace/conda/envs/python_310-1.0.0/lib/python3.10/site-packages (from pydantic>1.10.7->replicate) (0.7.0)\n",
      "Requirement already satisfied: pydantic-core==2.27.2 in ./user-groups/python-310/workspace/conda/envs/python_310-1.0.0/lib/python3.10/site-packages (from pydantic>1.10.7->replicate) (2.27.2)\n",
      "Requirement already satisfied: exceptiongroup>=1.0.2 in ./user-groups/python-310/workspace/conda/envs/python_310-1.0.0/lib/python3.10/site-packages (from anyio->httpx<1,>=0.21.0->replicate) (1.2.0)\n",
      "Note: you may need to restart the kernel to use updated packages.\n",
      "Requirement already satisfied: unitxt in ./user-groups/python-310/workspace/conda/envs/python_310-1.0.0/lib/python3.10/site-packages (1.17.1)\n",
      "Requirement already satisfied: datasets>=2.16.0 in ./user-groups/python-310/workspace/conda/envs/python_310-1.0.0/lib/python3.10/site-packages (from unitxt) (3.2.0)\n",
      "Requirement already satisfied: evaluate in ./user-groups/python-310/workspace/conda/envs/python_310-1.0.0/lib/python3.10/site-packages (from unitxt) (0.4.3)\n",
      "Requirement already satisfied: absl-py in ./user-groups/python-310/workspace/conda/envs/python_310-1.0.0/lib/python3.10/site-packages (from unitxt) (2.1.0)\n",
      "Requirement already satisfied: ipadic in ./user-groups/python-310/workspace/conda/envs/python_310-1.0.0/lib/python3.10/site-packages (from unitxt) (1.0.0)\n",
      "Requirement already satisfied: scipy in ./user-groups/python-310/workspace/conda/envs/python_310-1.0.0/lib/python3.10/site-packages (from unitxt) (1.15.1)\n",
      "Requirement already satisfied: filelock in ./user-groups/python-310/workspace/conda/envs/python_310-1.0.0/lib/python3.10/site-packages (from datasets>=2.16.0->unitxt) (3.17.0)\n",
      "Requirement already satisfied: numpy>=1.17 in ./user-groups/python-310/workspace/conda/envs/python_310-1.0.0/lib/python3.10/site-packages (from datasets>=2.16.0->unitxt) (1.26.4)\n",
      "Requirement already satisfied: pyarrow>=15.0.0 in ./user-groups/python-310/workspace/conda/envs/python_310-1.0.0/lib/python3.10/site-packages (from datasets>=2.16.0->unitxt) (19.0.0)\n",
      "Requirement already satisfied: dill<0.3.9,>=0.3.0 in ./user-groups/python-310/workspace/conda/envs/python_310-1.0.0/lib/python3.10/site-packages (from datasets>=2.16.0->unitxt) (0.3.8)\n",
      "Requirement already satisfied: pandas in ./user-groups/python-310/workspace/conda/envs/python_310-1.0.0/lib/python3.10/site-packages (from datasets>=2.16.0->unitxt) (2.1.4)\n",
      "Requirement already satisfied: requests>=2.32.2 in ./user-groups/python-310/workspace/conda/envs/python_310-1.0.0/lib/python3.10/site-packages (from datasets>=2.16.0->unitxt) (2.32.2)\n",
      "Requirement already satisfied: tqdm>=4.66.3 in ./user-groups/python-310/workspace/conda/envs/python_310-1.0.0/lib/python3.10/site-packages (from datasets>=2.16.0->unitxt) (4.67.1)\n",
      "Requirement already satisfied: xxhash in ./user-groups/python-310/workspace/conda/envs/python_310-1.0.0/lib/python3.10/site-packages (from datasets>=2.16.0->unitxt) (3.5.0)\n",
      "Requirement already satisfied: multiprocess<0.70.17 in ./user-groups/python-310/workspace/conda/envs/python_310-1.0.0/lib/python3.10/site-packages (from datasets>=2.16.0->unitxt) (0.70.16)\n",
      "Requirement already satisfied: fsspec<=2024.9.0,>=2023.1.0 in ./user-groups/python-310/workspace/conda/envs/python_310-1.0.0/lib/python3.10/site-packages (from fsspec[http]<=2024.9.0,>=2023.1.0->datasets>=2.16.0->unitxt) (2024.9.0)\n",
      "Requirement already satisfied: aiohttp in ./user-groups/python-310/workspace/conda/envs/python_310-1.0.0/lib/python3.10/site-packages (from datasets>=2.16.0->unitxt) (3.11.11)\n",
      "Requirement already satisfied: huggingface-hub>=0.23.0 in ./user-groups/python-310/workspace/conda/envs/python_310-1.0.0/lib/python3.10/site-packages (from datasets>=2.16.0->unitxt) (0.27.1)\n",
      "Requirement already satisfied: packaging in ./user-groups/python-310/workspace/conda/envs/python_310-1.0.0/lib/python3.10/site-packages (from datasets>=2.16.0->unitxt) (24.2)\n",
      "Requirement already satisfied: pyyaml>=5.1 in ./user-groups/python-310/workspace/conda/envs/python_310-1.0.0/lib/python3.10/site-packages (from datasets>=2.16.0->unitxt) (6.0.2)\n",
      "Requirement already satisfied: aiohappyeyeballs>=2.3.0 in ./user-groups/python-310/workspace/conda/envs/python_310-1.0.0/lib/python3.10/site-packages (from aiohttp->datasets>=2.16.0->unitxt) (2.4.4)\n",
      "Requirement already satisfied: aiosignal>=1.1.2 in ./user-groups/python-310/workspace/conda/envs/python_310-1.0.0/lib/python3.10/site-packages (from aiohttp->datasets>=2.16.0->unitxt) (1.3.2)\n",
      "Requirement already satisfied: async-timeout<6.0,>=4.0 in ./user-groups/python-310/workspace/conda/envs/python_310-1.0.0/lib/python3.10/site-packages (from aiohttp->datasets>=2.16.0->unitxt) (5.0.1)\n",
      "Requirement already satisfied: attrs>=17.3.0 in ./user-groups/python-310/workspace/conda/envs/python_310-1.0.0/lib/python3.10/site-packages (from aiohttp->datasets>=2.16.0->unitxt) (24.3.0)\n",
      "Requirement already satisfied: frozenlist>=1.1.1 in ./user-groups/python-310/workspace/conda/envs/python_310-1.0.0/lib/python3.10/site-packages (from aiohttp->datasets>=2.16.0->unitxt) (1.5.0)\n",
      "Requirement already satisfied: multidict<7.0,>=4.5 in ./user-groups/python-310/workspace/conda/envs/python_310-1.0.0/lib/python3.10/site-packages (from aiohttp->datasets>=2.16.0->unitxt) (6.1.0)\n",
      "Requirement already satisfied: propcache>=0.2.0 in ./user-groups/python-310/workspace/conda/envs/python_310-1.0.0/lib/python3.10/site-packages (from aiohttp->datasets>=2.16.0->unitxt) (0.2.1)\n",
      "Requirement already satisfied: yarl<2.0,>=1.17.0 in ./user-groups/python-310/workspace/conda/envs/python_310-1.0.0/lib/python3.10/site-packages (from aiohttp->datasets>=2.16.0->unitxt) (1.18.3)\n",
      "Requirement already satisfied: typing-extensions>=3.7.4.3 in ./user-groups/python-310/workspace/conda/envs/python_310-1.0.0/lib/python3.10/site-packages (from huggingface-hub>=0.23.0->datasets>=2.16.0->unitxt) (4.12.2)\n",
      "Requirement already satisfied: charset-normalizer<4,>=2 in ./user-groups/python-310/workspace/conda/envs/python_310-1.0.0/lib/python3.10/site-packages (from requests>=2.32.2->datasets>=2.16.0->unitxt) (3.3.2)\n",
      "Requirement already satisfied: idna<4,>=2.5 in ./user-groups/python-310/workspace/conda/envs/python_310-1.0.0/lib/python3.10/site-packages (from requests>=2.32.2->datasets>=2.16.0->unitxt) (3.7)\n",
      "Requirement already satisfied: urllib3<3,>=1.21.1 in ./user-groups/python-310/workspace/conda/envs/python_310-1.0.0/lib/python3.10/site-packages (from requests>=2.32.2->datasets>=2.16.0->unitxt) (2.3.0)\n",
      "Requirement already satisfied: certifi>=2017.4.17 in ./user-groups/python-310/workspace/conda/envs/python_310-1.0.0/lib/python3.10/site-packages (from requests>=2.32.2->datasets>=2.16.0->unitxt) (2024.12.14)\n",
      "Requirement already satisfied: python-dateutil>=2.8.2 in ./user-groups/python-310/workspace/conda/envs/python_310-1.0.0/lib/python3.10/site-packages (from pandas->datasets>=2.16.0->unitxt) (2.9.0.post0)\n",
      "Requirement already satisfied: pytz>=2020.1 in ./user-groups/python-310/workspace/conda/envs/python_310-1.0.0/lib/python3.10/site-packages (from pandas->datasets>=2.16.0->unitxt) (2024.2)\n",
      "Requirement already satisfied: tzdata>=2022.1 in ./user-groups/python-310/workspace/conda/envs/python_310-1.0.0/lib/python3.10/site-packages (from pandas->datasets>=2.16.0->unitxt) (2025.1)\n",
      "Requirement already satisfied: six>=1.5 in ./user-groups/python-310/workspace/conda/envs/python_310-1.0.0/lib/python3.10/site-packages (from python-dateutil>=2.8.2->pandas->datasets>=2.16.0->unitxt) (1.16.0)\n",
      "Note: you may need to restart the kernel to use updated packages.\n",
      "Requirement already satisfied: openai in ./user-groups/python-310/workspace/conda/envs/python_310-1.0.0/lib/python3.10/site-packages (1.60.2)\n",
      "Requirement already satisfied: anyio<5,>=3.5.0 in ./user-groups/python-310/workspace/conda/envs/python_310-1.0.0/lib/python3.10/site-packages (from openai) (4.6.2)\n",
      "Requirement already satisfied: distro<2,>=1.7.0 in ./user-groups/python-310/workspace/conda/envs/python_310-1.0.0/lib/python3.10/site-packages (from openai) (1.9.0)\n",
      "Requirement already satisfied: httpx<1,>=0.23.0 in ./user-groups/python-310/workspace/conda/envs/python_310-1.0.0/lib/python3.10/site-packages (from openai) (0.27.0)\n",
      "Requirement already satisfied: jiter<1,>=0.4.0 in ./user-groups/python-310/workspace/conda/envs/python_310-1.0.0/lib/python3.10/site-packages (from openai) (0.8.2)\n",
      "Requirement already satisfied: pydantic<3,>=1.9.0 in ./user-groups/python-310/workspace/conda/envs/python_310-1.0.0/lib/python3.10/site-packages (from openai) (2.10.6)\n",
      "Requirement already satisfied: sniffio in ./user-groups/python-310/workspace/conda/envs/python_310-1.0.0/lib/python3.10/site-packages (from openai) (1.3.0)\n",
      "Requirement already satisfied: tqdm>4 in ./user-groups/python-310/workspace/conda/envs/python_310-1.0.0/lib/python3.10/site-packages (from openai) (4.67.1)\n",
      "Requirement already satisfied: typing-extensions<5,>=4.11 in ./user-groups/python-310/workspace/conda/envs/python_310-1.0.0/lib/python3.10/site-packages (from openai) (4.12.2)\n",
      "Requirement already satisfied: idna>=2.8 in ./user-groups/python-310/workspace/conda/envs/python_310-1.0.0/lib/python3.10/site-packages (from anyio<5,>=3.5.0->openai) (3.7)\n",
      "Requirement already satisfied: exceptiongroup>=1.0.2 in ./user-groups/python-310/workspace/conda/envs/python_310-1.0.0/lib/python3.10/site-packages (from anyio<5,>=3.5.0->openai) (1.2.0)\n",
      "Requirement already satisfied: certifi in ./user-groups/python-310/workspace/conda/envs/python_310-1.0.0/lib/python3.10/site-packages (from httpx<1,>=0.23.0->openai) (2024.12.14)\n",
      "Requirement already satisfied: httpcore==1.* in ./user-groups/python-310/workspace/conda/envs/python_310-1.0.0/lib/python3.10/site-packages (from httpx<1,>=0.23.0->openai) (1.0.2)\n",
      "Requirement already satisfied: h11<0.15,>=0.13 in ./user-groups/python-310/workspace/conda/envs/python_310-1.0.0/lib/python3.10/site-packages (from httpcore==1.*->httpx<1,>=0.23.0->openai) (0.14.0)\n",
      "Requirement already satisfied: annotated-types>=0.6.0 in ./user-groups/python-310/workspace/conda/envs/python_310-1.0.0/lib/python3.10/site-packages (from pydantic<3,>=1.9.0->openai) (0.7.0)\n",
      "Requirement already satisfied: pydantic-core==2.27.2 in ./user-groups/python-310/workspace/conda/envs/python_310-1.0.0/lib/python3.10/site-packages (from pydantic<3,>=1.9.0->openai) (2.27.2)\n",
      "Note: you may need to restart the kernel to use updated packages.\n",
      "Requirement already satisfied: litellm in ./user-groups/python-310/workspace/conda/envs/python_310-1.0.0/lib/python3.10/site-packages (1.59.8)\n",
      "Requirement already satisfied: aiohttp in ./user-groups/python-310/workspace/conda/envs/python_310-1.0.0/lib/python3.10/site-packages (from litellm) (3.11.11)\n",
      "Requirement already satisfied: click in ./user-groups/python-310/workspace/conda/envs/python_310-1.0.0/lib/python3.10/site-packages (from litellm) (8.1.8)\n",
      "Requirement already satisfied: httpx<0.28.0,>=0.23.0 in ./user-groups/python-310/workspace/conda/envs/python_310-1.0.0/lib/python3.10/site-packages (from litellm) (0.27.0)\n",
      "Requirement already satisfied: importlib-metadata>=6.8.0 in ./user-groups/python-310/workspace/conda/envs/python_310-1.0.0/lib/python3.10/site-packages (from litellm) (8.6.1)\n",
      "Requirement already satisfied: jinja2<4.0.0,>=3.1.2 in ./user-groups/python-310/workspace/conda/envs/python_310-1.0.0/lib/python3.10/site-packages (from litellm) (3.1.5)\n",
      "Requirement already satisfied: jsonschema<5.0.0,>=4.22.0 in ./user-groups/python-310/workspace/conda/envs/python_310-1.0.0/lib/python3.10/site-packages (from litellm) (4.23.0)\n",
      "Requirement already satisfied: openai>=1.55.3 in ./user-groups/python-310/workspace/conda/envs/python_310-1.0.0/lib/python3.10/site-packages (from litellm) (1.60.2)\n",
      "Requirement already satisfied: pydantic<3.0.0,>=2.0.0 in ./user-groups/python-310/workspace/conda/envs/python_310-1.0.0/lib/python3.10/site-packages (from litellm) (2.10.6)\n",
      "Requirement already satisfied: python-dotenv>=0.2.0 in ./user-groups/python-310/workspace/conda/envs/python_310-1.0.0/lib/python3.10/site-packages (from litellm) (1.0.1)\n",
      "Requirement already satisfied: tiktoken>=0.7.0 in ./user-groups/python-310/workspace/conda/envs/python_310-1.0.0/lib/python3.10/site-packages (from litellm) (0.8.0)\n",
      "Requirement already satisfied: tokenizers in ./user-groups/python-310/workspace/conda/envs/python_310-1.0.0/lib/python3.10/site-packages (from litellm) (0.21.0)\n",
      "Requirement already satisfied: anyio in ./user-groups/python-310/workspace/conda/envs/python_310-1.0.0/lib/python3.10/site-packages (from httpx<0.28.0,>=0.23.0->litellm) (4.6.2)\n",
      "Requirement already satisfied: certifi in ./user-groups/python-310/workspace/conda/envs/python_310-1.0.0/lib/python3.10/site-packages (from httpx<0.28.0,>=0.23.0->litellm) (2024.12.14)\n",
      "Requirement already satisfied: httpcore==1.* in ./user-groups/python-310/workspace/conda/envs/python_310-1.0.0/lib/python3.10/site-packages (from httpx<0.28.0,>=0.23.0->litellm) (1.0.2)\n",
      "Requirement already satisfied: idna in ./user-groups/python-310/workspace/conda/envs/python_310-1.0.0/lib/python3.10/site-packages (from httpx<0.28.0,>=0.23.0->litellm) (3.7)\n",
      "Requirement already satisfied: sniffio in ./user-groups/python-310/workspace/conda/envs/python_310-1.0.0/lib/python3.10/site-packages (from httpx<0.28.0,>=0.23.0->litellm) (1.3.0)\n",
      "Requirement already satisfied: h11<0.15,>=0.13 in ./user-groups/python-310/workspace/conda/envs/python_310-1.0.0/lib/python3.10/site-packages (from httpcore==1.*->httpx<0.28.0,>=0.23.0->litellm) (0.14.0)\n",
      "Requirement already satisfied: zipp>=3.20 in ./user-groups/python-310/workspace/conda/envs/python_310-1.0.0/lib/python3.10/site-packages (from importlib-metadata>=6.8.0->litellm) (3.21.0)\n",
      "Requirement already satisfied: MarkupSafe>=2.0 in ./user-groups/python-310/workspace/conda/envs/python_310-1.0.0/lib/python3.10/site-packages (from jinja2<4.0.0,>=3.1.2->litellm) (2.1.3)\n",
      "Requirement already satisfied: attrs>=22.2.0 in ./user-groups/python-310/workspace/conda/envs/python_310-1.0.0/lib/python3.10/site-packages (from jsonschema<5.0.0,>=4.22.0->litellm) (24.3.0)\n",
      "Requirement already satisfied: jsonschema-specifications>=2023.03.6 in ./user-groups/python-310/workspace/conda/envs/python_310-1.0.0/lib/python3.10/site-packages (from jsonschema<5.0.0,>=4.22.0->litellm) (2023.7.1)\n",
      "Requirement already satisfied: referencing>=0.28.4 in ./user-groups/python-310/workspace/conda/envs/python_310-1.0.0/lib/python3.10/site-packages (from jsonschema<5.0.0,>=4.22.0->litellm) (0.30.2)\n",
      "Requirement already satisfied: rpds-py>=0.7.1 in ./user-groups/python-310/workspace/conda/envs/python_310-1.0.0/lib/python3.10/site-packages (from jsonschema<5.0.0,>=4.22.0->litellm) (0.22.3)\n",
      "Requirement already satisfied: distro<2,>=1.7.0 in ./user-groups/python-310/workspace/conda/envs/python_310-1.0.0/lib/python3.10/site-packages (from openai>=1.55.3->litellm) (1.9.0)\n",
      "Requirement already satisfied: jiter<1,>=0.4.0 in ./user-groups/python-310/workspace/conda/envs/python_310-1.0.0/lib/python3.10/site-packages (from openai>=1.55.3->litellm) (0.8.2)\n",
      "Requirement already satisfied: tqdm>4 in ./user-groups/python-310/workspace/conda/envs/python_310-1.0.0/lib/python3.10/site-packages (from openai>=1.55.3->litellm) (4.67.1)\n",
      "Requirement already satisfied: typing-extensions<5,>=4.11 in ./user-groups/python-310/workspace/conda/envs/python_310-1.0.0/lib/python3.10/site-packages (from openai>=1.55.3->litellm) (4.12.2)\n",
      "Requirement already satisfied: annotated-types>=0.6.0 in ./user-groups/python-310/workspace/conda/envs/python_310-1.0.0/lib/python3.10/site-packages (from pydantic<3.0.0,>=2.0.0->litellm) (0.7.0)\n",
      "Requirement already satisfied: pydantic-core==2.27.2 in ./user-groups/python-310/workspace/conda/envs/python_310-1.0.0/lib/python3.10/site-packages (from pydantic<3.0.0,>=2.0.0->litellm) (2.27.2)\n",
      "Requirement already satisfied: regex>=2022.1.18 in ./user-groups/python-310/workspace/conda/envs/python_310-1.0.0/lib/python3.10/site-packages (from tiktoken>=0.7.0->litellm) (2024.11.6)\n",
      "Requirement already satisfied: requests>=2.26.0 in ./user-groups/python-310/workspace/conda/envs/python_310-1.0.0/lib/python3.10/site-packages (from tiktoken>=0.7.0->litellm) (2.32.2)\n",
      "Requirement already satisfied: aiohappyeyeballs>=2.3.0 in ./user-groups/python-310/workspace/conda/envs/python_310-1.0.0/lib/python3.10/site-packages (from aiohttp->litellm) (2.4.4)\n",
      "Requirement already satisfied: aiosignal>=1.1.2 in ./user-groups/python-310/workspace/conda/envs/python_310-1.0.0/lib/python3.10/site-packages (from aiohttp->litellm) (1.3.2)\n",
      "Requirement already satisfied: async-timeout<6.0,>=4.0 in ./user-groups/python-310/workspace/conda/envs/python_310-1.0.0/lib/python3.10/site-packages (from aiohttp->litellm) (5.0.1)\n",
      "Requirement already satisfied: frozenlist>=1.1.1 in ./user-groups/python-310/workspace/conda/envs/python_310-1.0.0/lib/python3.10/site-packages (from aiohttp->litellm) (1.5.0)\n",
      "Requirement already satisfied: multidict<7.0,>=4.5 in ./user-groups/python-310/workspace/conda/envs/python_310-1.0.0/lib/python3.10/site-packages (from aiohttp->litellm) (6.1.0)\n",
      "Requirement already satisfied: propcache>=0.2.0 in ./user-groups/python-310/workspace/conda/envs/python_310-1.0.0/lib/python3.10/site-packages (from aiohttp->litellm) (0.2.1)\n",
      "Requirement already satisfied: yarl<2.0,>=1.17.0 in ./user-groups/python-310/workspace/conda/envs/python_310-1.0.0/lib/python3.10/site-packages (from aiohttp->litellm) (1.18.3)\n",
      "Requirement already satisfied: huggingface-hub<1.0,>=0.16.4 in ./user-groups/python-310/workspace/conda/envs/python_310-1.0.0/lib/python3.10/site-packages (from tokenizers->litellm) (0.27.1)\n",
      "Requirement already satisfied: exceptiongroup>=1.0.2 in ./user-groups/python-310/workspace/conda/envs/python_310-1.0.0/lib/python3.10/site-packages (from anyio->httpx<0.28.0,>=0.23.0->litellm) (1.2.0)\n",
      "Requirement already satisfied: filelock in ./user-groups/python-310/workspace/conda/envs/python_310-1.0.0/lib/python3.10/site-packages (from huggingface-hub<1.0,>=0.16.4->tokenizers->litellm) (3.17.0)\n",
      "Requirement already satisfied: fsspec>=2023.5.0 in ./user-groups/python-310/workspace/conda/envs/python_310-1.0.0/lib/python3.10/site-packages (from huggingface-hub<1.0,>=0.16.4->tokenizers->litellm) (2024.9.0)\n",
      "Requirement already satisfied: packaging>=20.9 in ./user-groups/python-310/workspace/conda/envs/python_310-1.0.0/lib/python3.10/site-packages (from huggingface-hub<1.0,>=0.16.4->tokenizers->litellm) (24.2)\n",
      "Requirement already satisfied: pyyaml>=5.1 in ./user-groups/python-310/workspace/conda/envs/python_310-1.0.0/lib/python3.10/site-packages (from huggingface-hub<1.0,>=0.16.4->tokenizers->litellm) (6.0.2)\n",
      "Requirement already satisfied: charset-normalizer<4,>=2 in ./user-groups/python-310/workspace/conda/envs/python_310-1.0.0/lib/python3.10/site-packages (from requests>=2.26.0->tiktoken>=0.7.0->litellm) (3.3.2)\n",
      "Requirement already satisfied: urllib3<3,>=1.21.1 in ./user-groups/python-310/workspace/conda/envs/python_310-1.0.0/lib/python3.10/site-packages (from requests>=2.26.0->tiktoken>=0.7.0->litellm) (2.3.0)\n",
      "Note: you may need to restart the kernel to use updated packages.\n",
      "Requirement already satisfied: diskcache in ./user-groups/python-310/workspace/conda/envs/python_310-1.0.0/lib/python3.10/site-packages (5.6.3)\n",
      "Note: you may need to restart the kernel to use updated packages.\n",
      "Requirement already satisfied: tenacity in ./user-groups/python-310/workspace/conda/envs/python_310-1.0.0/lib/python3.10/site-packages (9.0.0)\n",
      "Note: you may need to restart the kernel to use updated packages.\n",
      "Requirement already satisfied: tabulate in ./user-groups/python-310/workspace/conda/envs/python_310-1.0.0/lib/python3.10/site-packages (0.9.0)\n",
      "Note: you may need to restart the kernel to use updated packages.\n",
      "Collecting git+https://github.com/ibm-granite-community/utils\n",
      "  Cloning https://github.com/ibm-granite-community/utils to /tmp/pip-req-build-6auqzdvd\n",
      "  Running command git clone --filter=blob:none --quiet https://github.com/ibm-granite-community/utils /tmp/pip-req-build-6auqzdvd\n",
      "  Resolved https://github.com/ibm-granite-community/utils to commit 5d67648927240b208a164d2466f0dc77200450e5\n",
      "  Installing build dependencies ... \u001b[?25ldone\n",
      "\u001b[?25h  Getting requirements to build wheel ... \u001b[?25ldone\n",
      "\u001b[?25h  Preparing metadata (pyproject.toml) ... \u001b[?25ldone\n",
      "\u001b[?25hRequirement already satisfied: python-dotenv in ./user-groups/python-310/workspace/conda/envs/python_310-1.0.0/lib/python3.10/site-packages (from ibm-granite-community-utils==0.1.dev49) (1.0.1)\n",
      "Note: you may need to restart the kernel to use updated packages.\n"
     ]
    }
   ],
   "source": [
    "%pip install replicate\n",
    "%pip install unitxt\n",
    "%pip install openai\n",
    "%pip install litellm\n",
    "%pip install diskcache\n",
    "%pip install tenacity\n",
    "%pip install tabulate\n",
    "%pip install git+https://github.com/ibm-granite-community/utils"
   ]
  },
  {
   "cell_type": "markdown",
   "metadata": {},
   "source": [
    "and"
   ]
  },
  {
   "cell_type": "code",
   "execution_count": null,
   "metadata": {},
   "outputs": [
    {
     "ename": "TypeError",
     "evalue": "str expected, not bool",
     "output_type": "error",
     "traceback": [
      "\u001b[0;31m---------------------------------------------------------------------------\u001b[0m",
      "\u001b[0;31mTypeError\u001b[0m                                 Traceback (most recent call last)",
      "Cell \u001b[0;32mIn[3], line 10\u001b[0m\n\u001b[1;32m      7\u001b[0m nest_asyncio\u001b[38;5;241m.\u001b[39mapply()\n\u001b[1;32m      9\u001b[0m \u001b[38;5;28;01mimport\u001b[39;00m \u001b[38;5;21;01mos\u001b[39;00m\n\u001b[0;32m---> 10\u001b[0m os\u001b[38;5;241m.\u001b[39menviron[\u001b[38;5;124m\"\u001b[39m\u001b[38;5;124mUNITXT_USE_EAGER_EXECUTION\u001b[39m\u001b[38;5;124m\"\u001b[39m] \u001b[38;5;241m=\u001b[39m \u001b[38;5;28;01mTrue\u001b[39;00m\n",
      "File \u001b[0;32m~/user-groups/python-310/workspace/conda/envs/python_310-1.0.0/lib/python3.10/os.py:685\u001b[0m, in \u001b[0;36m_Environ.__setitem__\u001b[0;34m(self, key, value)\u001b[0m\n\u001b[1;32m    683\u001b[0m \u001b[38;5;28;01mdef\u001b[39;00m \u001b[38;5;21m__setitem__\u001b[39m(\u001b[38;5;28mself\u001b[39m, key, value):\n\u001b[1;32m    684\u001b[0m     key \u001b[38;5;241m=\u001b[39m \u001b[38;5;28mself\u001b[39m\u001b[38;5;241m.\u001b[39mencodekey(key)\n\u001b[0;32m--> 685\u001b[0m     value \u001b[38;5;241m=\u001b[39m \u001b[38;5;28;43mself\u001b[39;49m\u001b[38;5;241;43m.\u001b[39;49m\u001b[43mencodevalue\u001b[49m\u001b[43m(\u001b[49m\u001b[43mvalue\u001b[49m\u001b[43m)\u001b[49m\n\u001b[1;32m    686\u001b[0m     putenv(key, value)\n\u001b[1;32m    687\u001b[0m     \u001b[38;5;28mself\u001b[39m\u001b[38;5;241m.\u001b[39m_data[key] \u001b[38;5;241m=\u001b[39m value\n",
      "File \u001b[0;32m~/user-groups/python-310/workspace/conda/envs/python_310-1.0.0/lib/python3.10/os.py:757\u001b[0m, in \u001b[0;36m_createenviron.<locals>.encode\u001b[0;34m(value)\u001b[0m\n\u001b[1;32m    755\u001b[0m \u001b[38;5;28;01mdef\u001b[39;00m \u001b[38;5;21mencode\u001b[39m(value):\n\u001b[1;32m    756\u001b[0m     \u001b[38;5;28;01mif\u001b[39;00m \u001b[38;5;129;01mnot\u001b[39;00m \u001b[38;5;28misinstance\u001b[39m(value, \u001b[38;5;28mstr\u001b[39m):\n\u001b[0;32m--> 757\u001b[0m         \u001b[38;5;28;01mraise\u001b[39;00m \u001b[38;5;167;01mTypeError\u001b[39;00m(\u001b[38;5;124m\"\u001b[39m\u001b[38;5;124mstr expected, not \u001b[39m\u001b[38;5;132;01m%s\u001b[39;00m\u001b[38;5;124m\"\u001b[39m \u001b[38;5;241m%\u001b[39m \u001b[38;5;28mtype\u001b[39m(value)\u001b[38;5;241m.\u001b[39m\u001b[38;5;18m__name__\u001b[39m)\n\u001b[1;32m    758\u001b[0m     \u001b[38;5;28;01mreturn\u001b[39;00m value\u001b[38;5;241m.\u001b[39mencode(encoding, \u001b[38;5;124m'\u001b[39m\u001b[38;5;124msurrogateescape\u001b[39m\u001b[38;5;124m'\u001b[39m)\n",
      "\u001b[0;31mTypeError\u001b[0m: str expected, not bool"
     ]
    }
   ],
   "source": [
    "from unitxt.api import evaluate, load_dataset\n",
    "from unitxt.inference import CrossProviderInferenceEngine\n",
    "\n",
    "from ibm_granite_community.notebook_utils import get_env_var\n",
    "\n",
    "import nest_asyncio\n",
    "nest_asyncio.apply()\n",
    "\n",
    "import os\n",
    "os.environ[\"UNITXT_USE_EAGER_EXECUTION\"] = \"True\""
   ]
  },
  {
   "cell_type": "markdown",
   "metadata": {},
   "source": [
    "## Load the dataset from the Unitxt catalog\n",
    "\n",
    "Since PopQA is one of hundreds of datasets already contributed to Unitxt, we can simply load it from the catalog. Its [task card](https://www.unitxt.ai/en/latest/catalog/catalog.cards.openbook_qa.html) captures all the necessary details on how to load, transform, format, and evaluate the dataset.\n",
    "\n",
    "In this example, we keep all the default templates and formats, but limit loading to 20 prompts to reduce inference time and cost."
   ]
  },
  {
   "cell_type": "code",
   "execution_count": null,
   "metadata": {},
   "outputs": [],
   "source": [
    "dataset = load_dataset(card=\"cards.openbook_qa\",split=\"test\", loader_limit=20)"
   ]
  },
  {
   "cell_type": "markdown",
   "metadata": {},
   "source": [
    "## Instantiate the evaluation client\n",
    "\n",
    "Unitxt supports a wide range of inference engines for running models locally or remotely. For a complete list, see the [catalog](https://www.unitxt.ai/en/latest/catalog/catalog.engines.__dir__.html), or follow the [tutorial](https://www.unitxt.ai/en/latest/docs/inference.html).\n",
    "\n",
    "In this example, we are using a [CrossProviderInferenceEngine](https://www.unitxt.ai/en/latest/unitxt.inference.html#unitxt.inference.CrossProviderInferenceEngine) inference engine that wraps popular APIs for providers such as watsonx, openai, azure, aws, and many more."
   ]
  },
  {
   "cell_type": "code",
   "execution_count": null,
   "metadata": {},
   "outputs": [],
   "source": [
    "model = CrossProviderInferenceEngine(model=\"granite-3-1-8b-instruct\", provider=\"replicate\",credentials={'api_token': get_env_var('REPLICATE_API_TOKEN')})"
   ]
  },
  {
   "cell_type": "markdown",
   "metadata": {},
   "source": [
    "## Generate predictions"
   ]
  },
  {
   "cell_type": "code",
   "execution_count": null,
   "metadata": {},
   "outputs": [],
   "source": [
    "predictions = model(dataset)"
   ]
  },
  {
   "cell_type": "markdown",
   "metadata": {},
   "source": [
    "## Evaluate the predictions to determine results"
   ]
  },
  {
   "cell_type": "code",
   "execution_count": null,
   "metadata": {},
   "outputs": [],
   "source": [
    "results = evaluate(predictions=predictions, data=dataset)"
   ]
  },
  {
   "cell_type": "markdown",
   "metadata": {},
   "source": [
    "## Print the scores"
   ]
  },
  {
   "cell_type": "code",
   "execution_count": null,
   "metadata": {},
   "outputs": [],
   "source": [
    "print(\"Global Results:\")\n",
    "print(results.global_scores.summary)\n",
    "\n",
    "print(\"Instance Results:\")\n",
    "print(results.instance_scores.summary)"
   ]
  }
 ],
 "metadata": {
  "kernelspec": {
   "display_name": "Python [conda env:conda-python_310-1.0.0]",
   "language": "python",
   "name": "conda-env-conda-python_310-1.0.0-py"
  },
  "language_info": {
   "codemirror_mode": {
    "name": "ipython",
    "version": 3
   },
   "file_extension": ".py",
   "mimetype": "text/x-python",
   "name": "python",
   "nbconvert_exporter": "python",
   "pygments_lexer": "ipython3",
   "version": "3.10.16"
  }
 },
 "nbformat": 4,
 "nbformat_minor": 2
}
